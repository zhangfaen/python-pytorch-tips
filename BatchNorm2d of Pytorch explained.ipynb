{
 "cells": [
  {
   "cell_type": "markdown",
   "metadata": {},
   "source": [
    "### Understand behavior of Batch Normalization of pytorch 1.8.2, below is the document from pytorch\n",
    "\n",
    "https://pytorch.org/docs/stable/generated/torch.nn.BatchNorm2d.html?highlight=batchnorm2d#torch.nn.BatchNorm2d"
   ]
  },
  {
   "cell_type": "code",
   "execution_count": 5,
   "metadata": {},
   "outputs": [
    {
     "name": "stdout",
     "output_type": "stream",
     "text": [
      "torch.Size([2, 2, 2, 2])\n",
      "after many batches and before call eval(), running_mean and running_var : tensor([1.5000, 2.3749]) tensor([0.2857, 2.2678]) 0.1\n",
      "after many batches and after call eval(),  running_mean and running_var : tensor([1.5000, 2.3749]) tensor([0.2857, 2.2678]) 0.1\n",
      "BatchNorm2d eval input1: \n",
      " tensor([[[[-0.9353, -0.9353],\n",
      "          [-0.9353, -0.9353]],\n",
      "\n",
      "         [[-0.2490, -0.2490],\n",
      "          [-0.2490, -0.2490]]]])\n"
     ]
    }
   ],
   "source": [
    "import torch\n",
    "import torch.nn as nn\n",
    "m = nn.BatchNorm2d(2, affine = False, momentum = 0.1, track_running_stats = True)\n",
    "input1 = torch.tensor(\n",
    "    [[[[1., 1.],\n",
    "       [1., 1.]],\n",
    "      [[1., 1.],\n",
    "       [1., 1.]]], \n",
    "     [[[2., 2.], \n",
    "       [2., 2.]], \n",
    "      [[4., 4.], \n",
    "       [4., 3.]]]])\n",
    "print(input1.shape)\n",
    "for i in range(100):\n",
    "    # print(m.running_mean, m.running_var, m.momentum)\n",
    "    o = m(input1)\n",
    "print(\"after many batches and before call eval(), running_mean and running_var :\", m.running_mean, m.running_var, m.momentum)\n",
    "m.eval()\n",
    "print(\"after many batches and after call eval(),  running_mean and running_var :\", m.running_mean, m.running_var, m.momentum)\n",
    "\n",
    "# torch.Size([2, 2, 2, 2])\n",
    "# after many batches and before call eval(), running_mean and running_var : tensor([1.5000, 2.3749]) tensor([0.2857, 2.2678]) 0.1\n",
    "# after many batches and after call eval(), running_mean and running_var : tensor([1.5000, 2.3749]) tensor([0.2857, 2.2678]) 0.1\n",
    "# (4 + 4 + 4 + 3 + 1 + 1 + 1 + 1) / 8 = 2.3749\n",
    "\n",
    "input1 = torch.tensor(\n",
    "    [[[[1., 1.],\n",
    "       [1., 1.]],\n",
    "      [[2., 2.],\n",
    "       [2., 2.]]]])\n",
    "\n",
    "torch.set_printoptions(precision=4, sci_mode=False)\n",
    "print(\"BatchNorm2d eval input1: \\n\", m(input1))\n",
    "\n",
    "# output, note: (1.0 - 1.5) / ((0.2857) ** 0.5) == -0.9353\n",
    "#               (2.0 - 2.3749) /((2.2678) ** 0.5) == -0.249\n",
    "# tensor([[[[-0.9353, -0.9353],\n",
    "#           [-0.9353, -0.9353]],\n",
    "\n",
    "#          [[-0.2490, -0.2490],\n",
    "#           [-0.2490, -0.2490]]]])\n",
    "\n"
   ]
  },
  {
   "cell_type": "code",
   "execution_count": 6,
   "metadata": {},
   "outputs": [
    {
     "name": "stdout",
     "output_type": "stream",
     "text": [
      "torch.Size([2, 2, 1, 3])\n",
      "after many batches and before call eval(), running_mean and running_var : tensor([1.9999, 2.9999]) tensor([1.2000, 1.2000]) 0.1\n",
      "after many batches and after call eval(),  running_mean and running_var : tensor([1.9999, 2.9999]) tensor([1.2000, 1.2000]) 0.1\n",
      "BatchNorm2d eval input1: \n",
      " tensor([[[[-0.9128, -0.9128],\n",
      "          [-0.9128, -0.9128]],\n",
      "\n",
      "         [[-0.9128, -0.9128],\n",
      "          [-0.9128, -0.9128]]]])\n"
     ]
    }
   ],
   "source": [
    "import torch\n",
    "import torch.nn as nn\n",
    "m = nn.BatchNorm2d(2, affine = False, momentum = 0.1, track_running_stats = True)\n",
    "input1 = torch.tensor(\n",
    "    [[[[1., 1., 1.]],\n",
    "      [[2., 2., 2.]]], \n",
    "     [[[3., 3., 3.]], \n",
    "      [[4., 4., 4.]]]])\n",
    "print(input1.shape)\n",
    "for i in range(100):\n",
    "    # print(m.running_mean, m.running_var, m.momentum)\n",
    "    o = m(input1)\n",
    "print(\"after many batches and before call eval(), running_mean and running_var :\", m.running_mean, m.running_var, m.momentum)\n",
    "m.eval()\n",
    "print(\"after many batches and after call eval(),  running_mean and running_var :\", m.running_mean, m.running_var, m.momentum)\n",
    "\n",
    "# torch.Size([2, 2, 1, 3])\n",
    "# after many batches and before call eval(), running_mean and running_var : tensor([1.9999, 2.9999]) tensor([1.2000, 1.2000]) 0.1\n",
    "# after many batches and after call eval(),  running_mean and running_var : tensor([1.9999, 2.9999]) tensor([1.2000, 1.2000]) 0.1\n",
    "\n",
    "# (4 + 4 + 4 + 2 + 2 + 2) / 6 = 2.9999\n",
    "\n",
    "input1 = torch.tensor(\n",
    "    [[[[1., 1.],\n",
    "       [1., 1.]],\n",
    "      [[2., 2.],\n",
    "       [2., 2.]]]])\n",
    "\n",
    "torch.set_printoptions(precision=4, sci_mode=False)\n",
    "print(\"BatchNorm2d eval input1: \\n\", m(input1))\n",
    "\n",
    "# output, note: (1.0 - 1.9999) / ((1.2) ** 0.5) == -0.9128\n",
    "#               (2.0 - 2.9999) / ((1.2) ** 0.5) == -0.9128\n",
    "# tensor([[[[-0.9128, -0.9128],\n",
    "#           [-0.9128, -0.9128]],\n",
    "\n",
    "#          [[-0.9128, -0.9128],\n",
    "#           [-0.9128, -0.9128]]]])\n",
    "\n"
   ]
  }
 ],
 "metadata": {
  "kernelspec": {
   "display_name": "Python 3.8.13 ('openmmlab')",
   "language": "python",
   "name": "python3"
  },
  "language_info": {
   "codemirror_mode": {
    "name": "ipython",
    "version": 3
   },
   "file_extension": ".py",
   "mimetype": "text/x-python",
   "name": "python",
   "nbconvert_exporter": "python",
   "pygments_lexer": "ipython3",
   "version": "3.10.13"
  },
  "orig_nbformat": 4,
  "vscode": {
   "interpreter": {
    "hash": "c745df823b0b8fbc96bd327094d24a497ca88aeabc85de830d0531f0a8d26eb1"
   }
  }
 },
 "nbformat": 4,
 "nbformat_minor": 2
}
