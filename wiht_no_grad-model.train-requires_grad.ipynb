{
 "cells": [
  {
   "cell_type": "code",
   "execution_count": 2,
   "metadata": {},
   "outputs": [
    {
     "name": "stdout",
     "output_type": "stream",
     "text": [
      "2.5.1+cu121\n"
     ]
    }
   ],
   "source": [
    "import torch\n",
    "print(torch.__version__)"
   ]
  },
  {
   "cell_type": "code",
   "execution_count": null,
   "metadata": {},
   "outputs": [
    {
     "name": "stdout",
     "output_type": "stream",
     "text": [
      "x.requires_grad: True\n",
      "y.requires_grad: True\n",
      "y.requires_grad: True\n",
      "z.requires_grad: False\n",
      "y.grad_fn:<PowBackward0 object at 0x14ab54080d00>\n",
      "z.grad_fn:None\n"
     ]
    }
   ],
   "source": [
    "import torch\n",
    "x = torch.randn(5, requires_grad=True)\n",
    "y = x.pow(2)\n",
    "print(f\"x.requires_grad: {x.requires_grad}\")\n",
    "print(f\"y.requires_grad: {y.requires_grad}\")\n",
    "\n",
    "\n",
    "with torch.no_grad():\n",
    "    z = y * 2\n",
    "print(f\"y.requires_grad: {y.requires_grad}\")\n",
    "print(f\"z.requires_grad: {z.requires_grad}\")\n",
    "print(f\"y.grad_fn:{y.grad_fn}\")\n",
    "print(f\"z.grad_fn:{z.grad_fn}\")\n"
   ]
  },
  {
   "cell_type": "code",
   "execution_count": 1,
   "metadata": {},
   "outputs": [
    {
     "name": "stdout",
     "output_type": "stream",
     "text": [
      "Model in training mode: True\n",
      "model is training: True, Parameter name: fc.weight, requires_grad: True\n",
      "model is training: True, Parameter name: fc.bias, requires_grad: True\n",
      "Model in evaluation mode: False\n",
      "model is training: False, Parameter name: fc.weight, requires_grad: True\n",
      "model is training: False, Parameter name: fc.bias, requires_grad: True\n",
      "Tensor requires_grad=True: True\n",
      "Tensor requires_grad=False: False\n",
      "\n",
      "Before 'with torch.no_grad()':\n",
      "Requires grad for tensor (before): True\n",
      "Tensor requires_grad inside 'torch.no_grad()': False\n",
      "grad_cn of tensor_no_grad inside 'torch.no_grad()': None\n",
      "\n",
      "After 'with torch.no_grad()' block:\n",
      "Requires grad for tensor (after): True\n",
      "\n",
      "Gradient flow demonstration:\n",
      "Output tensor requires_grad: True\n",
      "Gradient for input tensor: tensor([[ 0.1023, -0.1377,  0.0895],\n",
      "        [ 0.1023, -0.1377,  0.0895],\n",
      "        [ 0.1023, -0.1377,  0.0895]])\n",
      "Output tensor inside no_grad block requires_grad: False\n"
     ]
    }
   ],
   "source": [
    "import torch\n",
    "import torch.nn as nn\n",
    "\n",
    "# Simple model definition\n",
    "class SimpleModel(nn.Module):\n",
    "    def __init__(self):\n",
    "        super(SimpleModel, self).__init__()\n",
    "        self.fc = nn.Linear(3, 3)  # A simple fully connected layer\n",
    "    \n",
    "    def forward(self, x):\n",
    "        return self.fc(x)\n",
    "\n",
    "# Create an instance of the model\n",
    "model = SimpleModel()\n",
    "\n",
    "# Example 1: Understanding 'train' vs 'eval'\n",
    "# Set the model to training mode\n",
    "model.train()\n",
    "print(f\"Model in training mode: {model.training}\")\n",
    "\n",
    "for name, param in model.named_parameters():\n",
    "    print(f\"model is training: {model.training}, Parameter name: {name}, requires_grad: {param.requires_grad}\")\n",
    "\n",
    "\n",
    "# Set the model to evaluation mode\n",
    "model.eval()\n",
    "print(f\"Model in evaluation mode: {model.training}\")\n",
    "\n",
    "for name, param in model.named_parameters():\n",
    "    print(f\"model is training: {model.training}, Parameter name: {name}, requires_grad: {param.requires_grad}\")\n",
    "\n",
    "# Example 2: Understanding 'requires_grad' for tensors\n",
    "# Create a tensor with requires_grad set to True\n",
    "tensor_train = torch.randn(3, requires_grad=True)\n",
    "print(f\"Tensor requires_grad=True: {tensor_train.requires_grad}\")\n",
    "\n",
    "# Create a tensor with requires_grad set to False (default)\n",
    "tensor_no_grad = torch.randn(3, requires_grad=False)\n",
    "print(f\"Tensor requires_grad=False: {tensor_no_grad.requires_grad}\")\n",
    "\n",
    "# Example 3: Using 'with torch.no_grad()' context\n",
    "print(\"\\nBefore 'with torch.no_grad()':\")\n",
    "print(f\"Requires grad for tensor (before): {tensor_train.requires_grad}\")\n",
    "\n",
    "# Disable gradient tracking\n",
    "with torch.no_grad():\n",
    "    tensor_no_grad = tensor_train * 2\n",
    "    print(f\"Tensor requires_grad inside 'torch.no_grad()': {tensor_no_grad.requires_grad}\")\n",
    "    print(f\"grad_cn of tensor_no_grad inside 'torch.no_grad()': {tensor_no_grad.grad_fn}\")\n",
    "\n",
    "print(f\"\\nAfter 'with torch.no_grad()' block:\")\n",
    "print(f\"Requires grad for tensor (after): {tensor_train.requires_grad}\")\n",
    "\n",
    "# Example 4: Gradient flow during forward pass\n",
    "print(\"\\nGradient flow demonstration:\")\n",
    "input_tensor = torch.randn(3, 3, requires_grad=True)  # Input tensor that requires gradients\n",
    "output_tensor = model(input_tensor)  # Forward pass\n",
    "print(f\"Output tensor requires_grad: {output_tensor.requires_grad}\")  # Should be True since model parameters require gradients\n",
    "\n",
    "# Performing a backward pass\n",
    "output_tensor.mean().backward()  # Perform a backward pass to compute gradients\n",
    "print(f\"Gradient for input tensor: {input_tensor.grad}\")  # Gradient should be computed for input tensor\n",
    "\n",
    "# Trying the same without gradients\n",
    "with torch.no_grad():\n",
    "    output_no_grad = model(input_tensor)\n",
    "    print(f\"Output tensor inside no_grad block requires_grad: {output_no_grad.requires_grad}\")\n",
    "    # No gradient tracking will happen inside the block\n"
   ]
  }
 ],
 "metadata": {
  "kernelspec": {
   "display_name": "py310",
   "language": "python",
   "name": "python3"
  },
  "language_info": {
   "codemirror_mode": {
    "name": "ipython",
    "version": 3
   },
   "file_extension": ".py",
   "mimetype": "text/x-python",
   "name": "python",
   "nbconvert_exporter": "python",
   "pygments_lexer": "ipython3",
   "version": "3.10.15"
  }
 },
 "nbformat": 4,
 "nbformat_minor": 2
}
