{
 "cells": [
  {
   "cell_type": "code",
   "execution_count": 9,
   "metadata": {},
   "outputs": [
    {
     "name": "stdout",
     "output_type": "stream",
     "text": [
      "torch.float32\n",
      "torch.float32\n",
      "torch.float16\n",
      "torch.float16\n",
      "tensor([2.0996, 2.1992], dtype=torch.float16)\n",
      "tensor([2.0996, 2.1992], dtype=torch.float16)\n",
      "tensor([2.1000, 2.2000]) torch.float32\n"
     ]
    }
   ],
   "source": [
    "# Module.to: This method modifies the module ***in-place****. We should change back after this call.\n",
    "import torch\n",
    "linear = torch.nn.Linear(5, 3, dtype=torch.float32)\n",
    "for p in linear.parameters():\n",
    "    print(p.dtype)\n",
    "\n",
    "linear.to(torch.float16) # eq to linear.half()\n",
    "\n",
    "for p in linear.parameters():\n",
    "    print(p.dtype)\n",
    "\n",
    "t = torch.tensor([2.1, 2.2], dtype=torch.float32)\n",
    "print(t.half()) # return a new tensor without modifying t\n",
    "print(t.to(dtype=torch.float16)) # return a new tensor without modifying t\n",
    "print(t, t.dtype)"
   ]
  }
 ],
 "metadata": {
  "kernelspec": {
   "display_name": "florence2-finetuning",
   "language": "python",
   "name": "python3"
  },
  "language_info": {
   "codemirror_mode": {
    "name": "ipython",
    "version": 3
   },
   "file_extension": ".py",
   "mimetype": "text/x-python",
   "name": "python",
   "nbconvert_exporter": "python",
   "pygments_lexer": "ipython3",
   "version": "3.11.9"
  }
 },
 "nbformat": 4,
 "nbformat_minor": 2
}
