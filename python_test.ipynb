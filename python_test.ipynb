{
 "cells": [
  {
   "cell_type": "code",
   "execution_count": 2,
   "metadata": {},
   "outputs": [
    {
     "name": "stdout",
     "output_type": "stream",
     "text": [
      "['__class__', '__delattr__', '__dict__', '__dir__', '__doc__', '__eq__', '__format__', '__ge__', '__getattribute__', '__gt__', '__hash__', '__init__', '__init_subclass__', '__le__', '__lt__', '__module__', '__ne__', '__new__', '__reduce__', '__reduce_ex__', '__repr__', '__setattr__', '__sizeof__', '__str__', '__subclasshook__', '__weakref__', 'x']\n",
      "{'x': 2}\n"
     ]
    }
   ],
   "source": [
    "# Instance dir() shows data+methods while its __dict__ only shows data attributes, not methods.\n",
    "class A:\n",
    "    def __init__(self):\n",
    "        self.x = 2\n",
    "a = A()\n",
    "# output:\n",
    "# ['__class__', '__delattr__', '__dict__', '__dir__', '__doc__', '__eq__', '__format__', '__ge__', '__getattribute__', '__gt__', '__hash__', '__init__', '__init_subclass__', '__le__', '__lt__', '__module__', '__ne__', '__new__', '__reduce__', '__reduce_ex__', '__repr__', '__setattr__', '__sizeof__', '__str__', '__subclasshook__', '__weakref__', 'x']\n",
    "print(dir(a))\n",
    "\n",
    "# output:\n",
    "# {'x': 2}\n",
    "print(a.__dict__)"
   ]
  },
  {
   "cell_type": "code",
   "execution_count": 3,
   "metadata": {},
   "outputs": [
    {
     "ename": "AttributeError",
     "evalue": "'object' object has no attribute 'a'",
     "output_type": "error",
     "traceback": [
      "\u001b[0;31m---------------------------------------------------------------------------\u001b[0m",
      "\u001b[0;31mAttributeError\u001b[0m                            Traceback (most recent call last)",
      "\u001b[1;32m/home/zhangfaen/dev/python-pytorch-tips/python_test.ipynb Cell 2\u001b[0m line \u001b[0;36m7\n\u001b[1;32m      <a href='vscode-notebook-cell://ssh-remote%2B117.50.191.151/home/zhangfaen/dev/python-pytorch-tips/python_test.ipynb#W1sdnNjb2RlLXJlbW90ZQ%3D%3D?line=4'>5</a>\u001b[0m obj\u001b[39m.\u001b[39ma \u001b[39m=\u001b[39m \u001b[39m2\u001b[39m        \u001b[39m# <- works\u001b[39;00m\n\u001b[1;32m      <a href='vscode-notebook-cell://ssh-remote%2B117.50.191.151/home/zhangfaen/dev/python-pytorch-tips/python_test.ipynb#W1sdnNjb2RlLXJlbW90ZQ%3D%3D?line=5'>6</a>\u001b[0m obj \u001b[39m=\u001b[39m \u001b[39mobject\u001b[39m()\n\u001b[0;32m----> <a href='vscode-notebook-cell://ssh-remote%2B117.50.191.151/home/zhangfaen/dev/python-pytorch-tips/python_test.ipynb#W1sdnNjb2RlLXJlbW90ZQ%3D%3D?line=6'>7</a>\u001b[0m obj\u001b[39m.\u001b[39;49ma \u001b[39m=\u001b[39m \u001b[39m2\u001b[39m        \u001b[39m# AttributeError: 'object' object has no attribute 'a'\u001b[39;00m\n\u001b[1;32m      <a href='vscode-notebook-cell://ssh-remote%2B117.50.191.151/home/zhangfaen/dev/python-pytorch-tips/python_test.ipynb#W1sdnNjb2RlLXJlbW90ZQ%3D%3D?line=7'>8</a>\u001b[0m x \u001b[39m=\u001b[39m \u001b[39m2\u001b[39m\n\u001b[1;32m      <a href='vscode-notebook-cell://ssh-remote%2B117.50.191.151/home/zhangfaen/dev/python-pytorch-tips/python_test.ipynb#W1sdnNjb2RlLXJlbW90ZQ%3D%3D?line=8'>9</a>\u001b[0m x\u001b[39m.\u001b[39ma \u001b[39m=\u001b[39m \u001b[39m2\u001b[39m  \u001b[39m#       AttributeError\u001b[39;00m\n",
      "\u001b[0;31mAttributeError\u001b[0m: 'object' object has no attribute 'a'"
     ]
    }
   ],
   "source": [
    "class myobject(object):\n",
    "    \"\"\"Should behave the same as object, right?\"\"\"\n",
    "\n",
    "obj = myobject()\n",
    "obj.a = 2        # <- works\n",
    "obj = object()\n",
    "obj.a = 2        # AttributeError: 'object' object has no attribute 'a'\n",
    "x = 2\n",
    "x.a = 2  #       AttributeError"
   ]
  },
  {
   "cell_type": "markdown",
   "metadata": {},
   "source": [
    "https://stackoverflow.com/questions/70753091/why-does-object-not-support-setattr-but-derived-classes-do\n",
    "\n",
    "Short answer\n",
    "object() by default does not have an attribute dictionary (__dict__). It allows the object() class and anything that inherits from it to save a few bytes.\n",
    "\n",
    "Why is it so important?\n",
    "Every class in Python inherits from object(). Classes like str, dict, tuple and int are used endlessly both internally and externally.\n",
    "\n",
    "Having an instance dictionary means that every object in Python will be both larger (consume more memory) and slower (every attribute will cause a dictionary lookup).\n",
    "\n",
    "In order to improve flexibility, by default, user-created classes do come with an instance __dict__. It allows us to patch instances, hook on methods, dynamically inject dependencies and offers an endless amount of different benefits. It is what gives Python its strength as a dynamic programming language and one of the paramount reasons for its success.\n",
    "\n",
    "To prevent creating one, you may set __slots__ like so:\n",
    "\n",
    "class A:\n",
    "    __slots__ = ()\n",
    "\n",
    "A().abc = 123  # Will throw an error\n",
    "Having no instance dictionary means that regular attribute access can skip searching __dict__. The faster attribute access leads to a large overall improvement in the Python runtime, but will reduce flexibility in your class usage.\n",
    "\n",
    "The way attribute lookup works without using __dict__ is out of scope of the question. You may read more about __slots__ in the documentation.\n",
    "\n",
    "For your second question:\n",
    "\n",
    "Any user-made class that doesn't have __slots__ has an instance dictionary (__dict__).\n",
    "\n",
    "If you subclass it, you can't add __slots__ and remove the dictionary of the parent class, it already exists.\n",
    "\n",
    "Having both __slots__ and a dictionary removes most of the upsides of using __slots__ which is saving space and preventing a dictionary creation.\n",
    "\n",
    ">>> import sys\n",
    ">>> class A:\n",
    "...  pass\n",
    "...\n",
    ">>> class B:\n",
    "...  __slots__ = ()\n",
    "...\n",
    ">>> sys.getsizeof(A())\n",
    "48\n",
    ">>> sys.getsizeof(B())\n",
    "32\n",
    ">>> class C(A):\n",
    "...  __slots__ = ()\n",
    "...\n",
    ">>> sys.getsizeof(C())\n",
    "48\n",
    ">>> C.__dict__\n",
    "mappingproxy({'__module__': '__main__', '__slots__': (), '__doc__': None})"
   ]
  }
 ],
 "metadata": {
  "kernelspec": {
   "display_name": "py310",
   "language": "python",
   "name": "python3"
  },
  "language_info": {
   "codemirror_mode": {
    "name": "ipython",
    "version": 3
   },
   "file_extension": ".py",
   "mimetype": "text/x-python",
   "name": "python",
   "nbconvert_exporter": "python",
   "pygments_lexer": "ipython3",
   "version": "3.10.10"
  }
 },
 "nbformat": 4,
 "nbformat_minor": 2
}
