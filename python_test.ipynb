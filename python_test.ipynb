{
 "cells": [
  {
   "cell_type": "code",
   "execution_count": 2,
   "metadata": {},
   "outputs": [
    {
     "name": "stdout",
     "output_type": "stream",
     "text": [
      "['__class__', '__delattr__', '__dict__', '__dir__', '__doc__', '__eq__', '__format__', '__ge__', '__getattribute__', '__gt__', '__hash__', '__init__', '__init_subclass__', '__le__', '__lt__', '__module__', '__ne__', '__new__', '__reduce__', '__reduce_ex__', '__repr__', '__setattr__', '__sizeof__', '__str__', '__subclasshook__', '__weakref__', 'x']\n",
      "{'x': 2}\n"
     ]
    }
   ],
   "source": [
    "# Instance dir() shows data+methods while its __dict__ only shows data attributes, not methods.\n",
    "class A:\n",
    "    def __init__(self):\n",
    "        self.x = 2\n",
    "a = A()\n",
    "# output:\n",
    "# ['__class__', '__delattr__', '__dict__', '__dir__', '__doc__', '__eq__', '__format__', '__ge__', '__getattribute__', '__gt__', '__hash__', '__init__', '__init_subclass__', '__le__', '__lt__', '__module__', '__ne__', '__new__', '__reduce__', '__reduce_ex__', '__repr__', '__setattr__', '__sizeof__', '__str__', '__subclasshook__', '__weakref__', 'x']\n",
    "print(dir(a))\n",
    "\n",
    "# output:\n",
    "# {'x': 2}\n",
    "print(a.__dict__)"
   ]
  },
  {
   "cell_type": "code",
   "execution_count": 3,
   "metadata": {},
   "outputs": [
    {
     "name": "stdout",
     "output_type": "stream",
     "text": [
      "22970873817744\n",
      "2\n",
      "22970921222416\n",
      "2\n",
      "22970921222416\n"
     ]
    }
   ],
   "source": [
    "a = 20000\n",
    "print(id(a))\n",
    "if True:\n",
    "    a = 2\n",
    "    print(a)\n",
    "    print(id(a))\n",
    "\n",
    "print(a)\n",
    "print(id(a))"
   ]
  },
  {
   "cell_type": "markdown",
   "metadata": {},
   "source": [
    "https://stackoverflow.com/questions/70753091/why-does-object-not-support-setattr-but-derived-classes-do\n",
    "\n",
    "Short answer\n",
    "object() by default does not have an attribute dictionary (__dict__). It allows the object() class and anything that inherits from it to save a few bytes.\n",
    "\n",
    "Why is it so important?\n",
    "Every class in Python inherits from object(). Classes like str, dict, tuple and int are used endlessly both internally and externally.\n",
    "\n",
    "Having an instance dictionary means that every object in Python will be both larger (consume more memory) and slower (every attribute will cause a dictionary lookup).\n",
    "\n",
    "In order to improve flexibility, by default, user-created classes do come with an instance __dict__. It allows us to patch instances, hook on methods, dynamically inject dependencies and offers an endless amount of different benefits. It is what gives Python its strength as a dynamic programming language and one of the paramount reasons for its success.\n",
    "\n",
    "To prevent creating one, you may set __slots__ like so:\n",
    "\n",
    "class A:\n",
    "    __slots__ = ()\n",
    "\n",
    "A().abc = 123  # Will throw an error\n",
    "Having no instance dictionary means that regular attribute access can skip searching __dict__. The faster attribute access leads to a large overall improvement in the Python runtime, but will reduce flexibility in your class usage.\n",
    "\n",
    "The way attribute lookup works without using __dict__ is out of scope of the question. You may read more about __slots__ in the documentation.\n",
    "\n",
    "For your second question:\n",
    "\n",
    "Any user-made class that doesn't have __slots__ has an instance dictionary (__dict__).\n",
    "\n",
    "If you subclass it, you can't add __slots__ and remove the dictionary of the parent class, it already exists.\n",
    "\n",
    "Having both __slots__ and a dictionary removes most of the upsides of using __slots__ which is saving space and preventing a dictionary creation.\n",
    "\n",
    ">>> import sys\n",
    ">>> class A:\n",
    "...  pass\n",
    "...\n",
    ">>> class B:\n",
    "...  __slots__ = ()\n",
    "...\n",
    ">>> sys.getsizeof(A())\n",
    "48\n",
    ">>> sys.getsizeof(B())\n",
    "32\n",
    ">>> class C(A):\n",
    "...  __slots__ = ()\n",
    "...\n",
    ">>> sys.getsizeof(C())\n",
    "48\n",
    ">>> C.__dict__\n",
    "mappingproxy({'__module__': '__main__', '__slots__': (), '__doc__': None})"
   ]
  },
  {
   "cell_type": "code",
   "execution_count": 2,
   "metadata": {},
   "outputs": [
    {
     "name": "stdout",
     "output_type": "stream",
     "text": [
      "True\n"
     ]
    }
   ],
   "source": [
    "import torch\n",
    "print(torch.cuda.is_available())\n",
    "\n"
   ]
  },
  {
   "cell_type": "code",
   "execution_count": 11,
   "metadata": {},
   "outputs": [
    {
     "name": "stdout",
     "output_type": "stream",
     "text": [
      "B instance id: 23046221134000\n",
      "B __dict__ id 23046217908288\n",
      "A instance id: 23046221134000\n",
      "A __dict__ id 23046217908288\n",
      "id of a: 23046221134000\n",
      "id of __dict__ of a: 23046217908288\n",
      "{'v': 3, 'vv': 4}\n",
      "23046221132896\n",
      "23046221133712\n",
      "23046217908288\n",
      "23046217568544\n",
      "23046221555584\n",
      "False\n",
      "<function A.f at 0x14f5dd9c9120>\n",
      "<bound method A.f of <__main__.A object at 0x14f5ddd2f8b0>>\n",
      "<function A.f at 0x14f5dd9c9120>\n"
     ]
    }
   ],
   "source": [
    "class B:\n",
    "    def __init__(self) -> None:\n",
    "        self.v = 2\n",
    "        print(\"B instance id:\", id(self))\n",
    "        print(\"B __dict__ id\", id(self.__dict__))\n",
    "class A(B):\n",
    "    def __init__(self) -> None:\n",
    "        super().__init__()\n",
    "        self.v = 3\n",
    "        self.vv = 4\n",
    "        print(\"A instance id:\", id(self))\n",
    "        print(\"A __dict__ id\", id(self.__dict__))\n",
    "\n",
    "    def f():\n",
    "        pass\n",
    "\n",
    "a = A()\n",
    "print(\"id of a:\", id(a))\n",
    "print(\"id of __dict__ of a:\", id(a.__dict__))\n",
    "\n",
    "print(a.__dict__)\n",
    "\n",
    "print(id(A.__dict__))\n",
    "print(id(B.__dict__))\n",
    "print(id(a.__dict__))\n",
    "\n",
    "print(id(A.f))\n",
    "print(id(a.f))\n",
    "\n",
    "print(A.f is a.f)\n",
    "print(A.f)\n",
    "print(a.f)\n",
    "dir(a.f)\n",
    "print(a.f.__func__)"
   ]
  },
  {
   "cell_type": "code",
   "execution_count": 9,
   "metadata": {},
   "outputs": [
    {
     "name": "stdout",
     "output_type": "stream",
     "text": [
      "{'__module__': '__main__', '__qualname__': 'C'}\n",
      "{'__module__': '__main__', '__qualname__': 'C', '__init__': <function C.__init__ at 0x14ac6425caf0>}\n",
      "{'self': <__main__.C object at 0x14ac642f4e20>, '__class__': <class '__main__.C'>}\n",
      "['__class__', 'self']\n",
      "30072960\n",
      "30072960\n",
      "7603456\n",
      "30072960\n"
     ]
    }
   ],
   "source": [
    "class C:\n",
    "    print(vars())\n",
    "    def __init__(self):\n",
    "        print(vars())\n",
    "        print(dir())\n",
    "        print(id(__class__))\n",
    "        print(id(self.__class__))\n",
    "        print(id(C.__class__))\n",
    "    \n",
    "    print(vars())\n",
    "\n",
    "C()\n",
    "print(id(C))"
   ]
  }
 ],
 "metadata": {
  "kernelspec": {
   "display_name": "py310",
   "language": "python",
   "name": "python3"
  },
  "language_info": {
   "codemirror_mode": {
    "name": "ipython",
    "version": 3
   },
   "file_extension": ".py",
   "mimetype": "text/x-python",
   "name": "python",
   "nbconvert_exporter": "python",
   "pygments_lexer": "ipython3",
   "version": "3.10.13"
  }
 },
 "nbformat": 4,
 "nbformat_minor": 2
}
