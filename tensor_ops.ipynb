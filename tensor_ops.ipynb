{
 "cells": [
  {
   "cell_type": "code",
   "execution_count": 11,
   "metadata": {},
   "outputs": [
    {
     "name": "stdout",
     "output_type": "stream",
     "text": [
      "tensor([1, 2, 2, 3, 5])\n",
      "tensor([1, 2, 5])\n",
      "tensor([False,  True,  True, False, False])\n",
      "tensor(2)\n",
      "(tensor([1, 2]),)\n",
      "(tensor([4]),)\n",
      "(tensor([], dtype=torch.int64),)\n"
     ]
    }
   ],
   "source": [
    "import torch\n",
    "t = torch.tensor([1, 2, 2, 3, 5])\n",
    "mask = torch.tensor([True, True, False, False, True])\n",
    "print(t)\n",
    "print(t[mask])\n",
    "\n",
    "print(t == 2)\n",
    "print(sum(t == 2))\n",
    "\n",
    "print(torch.where(t == 2))\n",
    "print(torch.where(t == 5))\n",
    "print(torch.where(t == 6))"
   ]
  }
 ],
 "metadata": {
  "kernelspec": {
   "display_name": "py310",
   "language": "python",
   "name": "python3"
  },
  "language_info": {
   "codemirror_mode": {
    "name": "ipython",
    "version": 3
   },
   "file_extension": ".py",
   "mimetype": "text/x-python",
   "name": "python",
   "nbconvert_exporter": "python",
   "pygments_lexer": "ipython3",
   "version": "3.10.13"
  }
 },
 "nbformat": 4,
 "nbformat_minor": 2
}
