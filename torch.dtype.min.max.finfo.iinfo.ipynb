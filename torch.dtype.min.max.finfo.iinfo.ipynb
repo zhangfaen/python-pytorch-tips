{
 "cells": [
  {
   "cell_type": "code",
   "execution_count": 1,
   "metadata": {},
   "outputs": [
    {
     "name": "stdout",
     "output_type": "stream",
     "text": [
      "finfo(resolution=0.001, min=-65504, max=65504, eps=0.000976562, smallest_normal=6.10352e-05, tiny=6.10352e-05, dtype=float16)\n",
      "finfo(resolution=1e-06, min=-3.40282e+38, max=3.40282e+38, eps=1.19209e-07, smallest_normal=1.17549e-38, tiny=1.17549e-38, dtype=float32)\n",
      "finfo(resolution=0.01, min=-3.38953e+38, max=3.38953e+38, eps=0.0078125, smallest_normal=1.17549e-38, tiny=1.17549e-38, dtype=bfloat16)\n",
      "finfo(resolution=1e-15, min=-1.79769e+308, max=1.79769e+308, eps=2.22045e-16, smallest_normal=2.22507e-308, tiny=2.22507e-308, dtype=float64)\n",
      "iinfo(min=-128, max=127, dtype=int8)\n",
      "iinfo(min=-32768, max=32767, dtype=int16)\n",
      "iinfo(min=-2.14748e+09, max=2.14748e+09, dtype=int32)\n",
      "iinfo(min=-9.22337e+18, max=9.22337e+18, dtype=int64)\n",
      "iinfo(min=0, max=255, dtype=uint8)\n"
     ]
    }
   ],
   "source": [
    "import torch\n",
    "\n",
    "print(torch.finfo(torch.float16))\n",
    "print(torch.finfo(torch.float32))\n",
    "print(torch.finfo(torch.bfloat16))\n",
    "print(torch.finfo(torch.float64))\n",
    "\n",
    "print(torch.iinfo(torch.int8))\n",
    "print(torch.iinfo(torch.int16))\n",
    "print(torch.iinfo(torch.int32))\n",
    "print(torch.iinfo(torch.int64))\n",
    "\n",
    "print(torch.iinfo(torch.uint8))\n"
   ]
  }
 ],
 "metadata": {
  "kernelspec": {
   "display_name": "py310",
   "language": "python",
   "name": "python3"
  },
  "language_info": {
   "codemirror_mode": {
    "name": "ipython",
    "version": 3
   },
   "file_extension": ".py",
   "mimetype": "text/x-python",
   "name": "python",
   "nbconvert_exporter": "python",
   "pygments_lexer": "ipython3",
   "version": "3.10.13"
  }
 },
 "nbformat": 4,
 "nbformat_minor": 2
}
