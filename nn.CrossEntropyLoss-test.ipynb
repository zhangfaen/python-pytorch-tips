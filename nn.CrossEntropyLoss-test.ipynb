{
 "cells": [
  {
   "cell_type": "code",
   "execution_count": 1,
   "metadata": {},
   "outputs": [
    {
     "name": "stdout",
     "output_type": "stream",
     "text": [
      "torch.Size([])\n",
      "input after softmax:  tensor([[0.2689414322, 0.7310585976]])\n",
      "0.3132616615695568\n",
      "0.31326165795326233\n",
      "input after softmax:  tensor([[0.2119415700, 0.5761169195, 0.2119415700]])\n",
      "1.551444655505972\n",
      "1.55144464969635\n",
      "<class 'torch.Tensor'>\n"
     ]
    }
   ],
   "source": [
    "import torch\n",
    "import torch.nn as nn\n",
    "import math\n",
    "\n",
    "# Tensor'shape could be scalar value;\n",
    "print(torch.ones(()).shape)\n",
    "\n",
    "# Pytorch中CrossEntropyLoss()函数的主要是将softmax-log-NLLLoss合并到一块得到的结果。\n",
    "# loss(input, target) == sum(-target[i] * log(input[i])) ## log is e based; input and target are one-hot encoded.\n",
    "loss = nn.CrossEntropyLoss()\n",
    "input = torch.Tensor([[0, 1]])\n",
    "target = torch.Tensor([1]).to(dtype=torch.long)\n",
    "\n",
    "torch.set_printoptions(precision=10)\n",
    "\n",
    "# below line outputs: input after softmax:  tensor([[0.2689414322, 0.7310585976]])\n",
    "print(\"input after softmax: \", torch.softmax(input, dim=1))\n",
    "# output: 0.31326166161784674\n",
    "print(-0 * math.log(0.2689414322) - 1 * math.log(0.7310585976))\n",
    "\n",
    "output = loss(input, target)\n",
    "# output shape is [], its scala value is 0.31326165795326233\n",
    "print(output.item())\n",
    "\n",
    "###--------------------one more example---------------------\n",
    "input = torch.Tensor([[0, 1, 0]])\n",
    "# class label is 2, after one-hot encode is [0, 0, 1]\n",
    "target = torch.Tensor([2]).to(dtype=torch.long)\n",
    "\n",
    "torch.set_printoptions(precision=10)\n",
    "\n",
    "# below line outputs: input after softmax:  tensor([[0.2119415700, 0.5761169195, 0.2119415700]])\n",
    "print(\"input after softmax: \", torch.softmax(input, dim=1))\n",
    "# output: 1.551444655505972\n",
    "print(-0 * math.log(0.2119415700) - 0 * math.log(0.5761169195) - 1 * math.log(0.2119415700))\n",
    "\n",
    "output = loss(input, target)\n",
    "# output shape is [], its scala value is 1.55144464969635\n",
    "print(output.item())\n",
    "\n",
    "print(type(output))\n"
   ]
  }
 ],
 "metadata": {
  "kernelspec": {
   "display_name": "Python 3.8.13 ('pytorch.1.12-learn')",
   "language": "python",
   "name": "python3"
  },
  "language_info": {
   "codemirror_mode": {
    "name": "ipython",
    "version": 3
   },
   "file_extension": ".py",
   "mimetype": "text/x-python",
   "name": "python",
   "nbconvert_exporter": "python",
   "pygments_lexer": "ipython3",
   "version": "3.8.13"
  },
  "orig_nbformat": 4,
  "vscode": {
   "interpreter": {
    "hash": "708194e2fd8b4e9ba6b18dc29c74095066ab8fe23c9bceb551782d7664d0dcab"
   }
  }
 },
 "nbformat": 4,
 "nbformat_minor": 2
}
