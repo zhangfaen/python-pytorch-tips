{
 "cells": [
  {
   "cell_type": "code",
   "execution_count": 3,
   "metadata": {},
   "outputs": [
    {
     "data": {
      "text/html": [
       "<a href=\"https://pytorch.org/docs/stable/generated/torch.nn.LayerNorm.html\">LayerNorm</a>\n"
      ],
      "text/plain": [
       "<IPython.core.display.HTML object>"
      ]
     },
     "metadata": {},
     "output_type": "display_data"
    }
   ],
   "source": [
    "%%html\n",
    "<a href=\"https://pytorch.org/docs/stable/generated/torch.nn.LayerNorm.html\">LayerNorm</a>"
   ]
  },
  {
   "cell_type": "code",
   "execution_count": 1,
   "metadata": {},
   "outputs": [
    {
     "name": "stdout",
     "output_type": "stream",
     "text": [
      "torch.Size([1, 3, 3])\n",
      "tensor([[[-1.2247e+00,  0.0000e+00,  1.2247e+00],\n",
      "         [-1.2247e+00,  1.1921e-07,  1.2247e+00],\n",
      "         [-1.2978e+00,  1.6222e-01,  1.1355e+00]]],\n",
      "       grad_fn=<NativeLayerNormBackward0>)\n",
      "tensor([-1.2247,  0.0000,  1.2247])\n",
      "tensor([-1.2247,  0.0000,  1.2247])\n",
      "tensor([-1.2978,  0.1622,  1.1355])\n"
     ]
    }
   ],
   "source": [
    "import torch\n",
    "import torch.nn as nn\n",
    "from torch.nn.functional import normalize\n",
    "from typing import Tuple\n",
    "\n",
    "\n",
    "def my_layer_norm(\n",
    "    x: torch.Tensor, dim: Tuple[int], eps: float = 0.00001\n",
    ") -> torch.Tensor:\n",
    "    mean = torch.mean(x, dim=dim, keepdim=True)\n",
    "    var = torch.square(x - mean).mean(dim=dim, keepdim=True)\n",
    "    return (x - mean) / torch.sqrt(var + eps)\n",
    "\n",
    "\n",
    "batch, sentence_length, embedding_dim = 1, 2, 3\n",
    "embedding = torch.tensor(\n",
    "    [[[1.0, 2.0, 3.0],\n",
    "     [2.0, 3.0, 4.0],\n",
    "     [1.0, 4.0, 6.0]]])\n",
    "print(embedding.shape)\n",
    "layer_norm = nn.LayerNorm(3, elementwise_affine=True)\n",
    "output = layer_norm(embedding)\n",
    "print(output)\n",
    "\n",
    "print(my_layer_norm(torch.tensor([1.0, 2.0, 3.0]), 0))\n",
    "print(my_layer_norm(torch.tensor([2.0, 3.0, 4.0]), 0))\n",
    "print(my_layer_norm(torch.tensor([1.0, 4.0, 6.0]), 0))"
   ]
  },
  {
   "cell_type": "code",
   "execution_count": 2,
   "metadata": {},
   "outputs": [
    {
     "name": "stdout",
     "output_type": "stream",
     "text": [
      "torch.Size([1, 1, 2, 2])\n",
      "tensor([[[[False,  True],\n",
      "          [ True, False]]]])\n",
      "before mask:\n",
      "tensor([[[[-0.4132, -0.2266],\n",
      "          [ 0.2604,  1.0856]],\n",
      "\n",
      "         [[-2.3782, -0.5554],\n",
      "          [ 0.6914, -0.2681]],\n",
      "\n",
      "         [[ 0.9550, -0.7643],\n",
      "          [-1.2810,  0.0563]]],\n",
      "\n",
      "\n",
      "        [[[-0.0229,  0.9606],\n",
      "          [-0.6099,  0.1671]],\n",
      "\n",
      "         [[-0.3016, -1.1551],\n",
      "          [ 1.0394,  0.8793]],\n",
      "\n",
      "         [[ 0.2370, -0.2745],\n",
      "          [-0.8201, -2.4180]]]])\n",
      "after maks:\n",
      "tensor([[[[-0.4132,    -inf],\n",
      "          [   -inf,  1.0856]],\n",
      "\n",
      "         [[-2.3782,    -inf],\n",
      "          [   -inf, -0.2681]],\n",
      "\n",
      "         [[ 0.9550,    -inf],\n",
      "          [   -inf,  0.0563]]],\n",
      "\n",
      "\n",
      "        [[[-0.0229,    -inf],\n",
      "          [   -inf,  0.1671]],\n",
      "\n",
      "         [[-0.3016,    -inf],\n",
      "          [   -inf,  0.8793]],\n",
      "\n",
      "         [[ 0.2370,    -inf],\n",
      "          [   -inf, -2.4180]]]])\n"
     ]
    }
   ],
   "source": [
    "import torch\n",
    "\n",
    "ts = torch.randn((2,3,2,2), dtype=torch.float)\n",
    "mask = torch.tensor([[\n",
    "    [[1, 0],\n",
    "    [0, 1]],\n",
    "]])\n",
    "print(mask.shape)\n",
    "print(mask == 0)\n",
    "print(\"before mask:\")\n",
    "print(ts)\n",
    "ts = ts.masked_fill(mask==0, float('-inf'))\n",
    "print(\"after maks:\")\n",
    "print(ts)\n",
    "\n",
    "# att = att.masked_fill(self.bias[:,:,:T,:T] == 0, float('-inf'))"
   ]
  }
 ],
 "metadata": {
  "kernelspec": {
   "display_name": "py310",
   "language": "python",
   "name": "python3"
  },
  "language_info": {
   "codemirror_mode": {
    "name": "ipython",
    "version": 3
   },
   "file_extension": ".py",
   "mimetype": "text/x-python",
   "name": "python",
   "nbconvert_exporter": "python",
   "pygments_lexer": "ipython3",
   "version": "3.10.10"
  },
  "orig_nbformat": 4
 },
 "nbformat": 4,
 "nbformat_minor": 2
}
